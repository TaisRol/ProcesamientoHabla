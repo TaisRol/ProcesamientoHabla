{
  "nbformat": 4,
  "nbformat_minor": 0,
  "metadata": {
    "colab": {
      "provenance": []
    },
    "kernelspec": {
      "name": "python3",
      "display_name": "Python 3"
    },
    "language_info": {
      "name": "python"
    }
  },
  "cells": [
    {
      "cell_type": "markdown",
      "source": [
        "#✨Trabajo Practico n1 - Procesamiento del habla\n",
        "\n",
        "##Alumna : Tais Roldan\n",
        "\n",
        "##ISSD\n",
        "___\n",
        "\n",
        "📚Consigna: Realizar la entrega de cualquiera de las tareas MARTIN_FIERRO#1 #2 #3\n",
        "\n",
        "Además de generar la lista de diccionarios con cada estrofa y su cantidad de versos, deberán añadir al final del notebook un análisis que responda a las siguientes preguntas:\n",
        "\n",
        "1) ¿Cuál es la cantidad promedio de versos por estrofa en todo el poema?\n",
        "\n",
        "2) ¿Cuáles son las 5 estrofas más largas (con más versos)? Imprimir el texto y su cantidad de versos.\n",
        "\n",
        "3) (Bonus) Generar un gráfico de barras (usando matplotlib o seaborn) que muestre la frecuencia de las estrofas según su cantidad de versos (ej: cuántas estrofas de 4 versos hay, cuántas de 6, etc.)\".\n",
        "___\n",
        "###Yo realizare la entrega de la tarea MARTIN_FIERRO#1, que consiste en cargar el PDF del libro Martín Fierro y generar una lista donde donde cada elemento tenga el siguiente formato: {num_pag: N, texto=}\n",
        "___"
      ],
      "metadata": {
        "id": "Y2ml4qAyxdka"
      }
    },
    {
      "cell_type": "markdown",
      "source": [
        "###1️⃣1ra parte: Descargar el archivo:⬇️"
      ],
      "metadata": {
        "id": "_O7meBM5_2wG"
      }
    },
    {
      "cell_type": "code",
      "execution_count": 65,
      "metadata": {
        "colab": {
          "base_uri": "https://localhost:8080/"
        },
        "collapsed": true,
        "id": "_4cRa_mquq6Q",
        "outputId": "7f1a0c32-17e2-4af6-d887-4dbae68e7adb"
      },
      "outputs": [
        {
          "output_type": "stream",
          "name": "stdout",
          "text": [
            "Requirement already satisfied: pypdf in /usr/local/lib/python3.12/dist-packages (6.0.0)\n",
            "Requirement already satisfied: pdfplumber in /usr/local/lib/python3.12/dist-packages (0.11.7)\n",
            "Requirement already satisfied: pdfminer.six==20250506 in /usr/local/lib/python3.12/dist-packages (from pdfplumber) (20250506)\n",
            "Requirement already satisfied: Pillow>=9.1 in /usr/local/lib/python3.12/dist-packages (from pdfplumber) (11.3.0)\n",
            "Requirement already satisfied: pypdfium2>=4.18.0 in /usr/local/lib/python3.12/dist-packages (from pdfplumber) (4.30.0)\n",
            "Requirement already satisfied: charset-normalizer>=2.0.0 in /usr/local/lib/python3.12/dist-packages (from pdfminer.six==20250506->pdfplumber) (3.4.3)\n",
            "Requirement already satisfied: cryptography>=36.0.0 in /usr/local/lib/python3.12/dist-packages (from pdfminer.six==20250506->pdfplumber) (43.0.3)\n",
            "Requirement already satisfied: cffi>=1.12 in /usr/local/lib/python3.12/dist-packages (from cryptography>=36.0.0->pdfminer.six==20250506->pdfplumber) (2.0.0)\n",
            "Requirement already satisfied: pycparser in /usr/local/lib/python3.12/dist-packages (from cffi>=1.12->cryptography>=36.0.0->pdfminer.six==20250506->pdfplumber) (2.23)\n"
          ]
        }
      ],
      "source": [
        "!pip install pypdf #instalo la libreria\n",
        "!pip install pdfplumber #instalo otra libreria que me servira para la parte de analisis"
      ]
    },
    {
      "cell_type": "code",
      "source": [
        "import requests #requests la voy a usar para poder descargar el PDF desde mi URL\n",
        "from pypdf import PdfReader #con pdfreader puedo manipular los datos"
      ],
      "metadata": {
        "id": "ineWQOka0QKH"
      },
      "execution_count": 66,
      "outputs": []
    },
    {
      "cell_type": "code",
      "source": [
        "def descargar_pdf(url, nombre_archivo): #defino la funcion que va a descargar mi PDF y le va poner el nombre que yo defiina mas adelante\n",
        "    response = requests.get(url)\n",
        "    with open(nombre_archivo, 'wb') as archivo: #con esto guardo el contenido de mi pdf en un archivo\n",
        "        archivo.write(response.content)\n",
        "    print(f\"PDF descargado como {nombre_archivo}\")"
      ],
      "metadata": {
        "id": "ANvgQW9G9C3p"
      },
      "execution_count": 67,
      "outputs": []
    },
    {
      "cell_type": "code",
      "source": [
        "#creo mis variables, una con mi url y otra que va a servir para ponerle nombre a mi PDF\n",
        "pdf_url = \"https://www.argentina.gob.ar/sites/default/files/hernandez_jose_-_el_gaucho_martin_fierro.pdf\"\n",
        "nombre_pdf = \"martin_fierro.pdf\"\n",
        "\n",
        "descargar_pdf(pdf_url, nombre_pdf) #ejecuto mi función y descargo mi pdf"
      ],
      "metadata": {
        "colab": {
          "base_uri": "https://localhost:8080/"
        },
        "id": "0JOEGVPd5DTi",
        "outputId": "390873d3-dbe3-4d50-e55c-050ce49f55cc"
      },
      "execution_count": 68,
      "outputs": [
        {
          "output_type": "stream",
          "name": "stdout",
          "text": [
            "PDF descargado como martin_fierro.pdf\n"
          ]
        }
      ]
    },
    {
      "cell_type": "markdown",
      "source": [
        "###2️⃣2da parte: Cargar mi pdf y crear el diccionario📝"
      ],
      "metadata": {
        "id": "Zk9PIoq7__66"
      }
    },
    {
      "cell_type": "code",
      "source": [
        "lector = PdfReader(nombre_pdf) #hago que pdfreader lea mi pdf\n",
        "\n",
        "lista_paginas = [] #creo una lista vacia\n",
        "\n",
        "for num_pag, pagina in enumerate(lector.pages, start=1): #recorro todas las páginas del PDF\n",
        "    texto = pagina.extract_text()   #extraigo el texto de la página\n",
        "\n",
        "    elemento = { #creo mi diccionario en el formato pedido\n",
        "        \"num_pag\": num_pag,\n",
        "        \"texto\": texto\n",
        "    }\n",
        "\n",
        "    lista_paginas.append(elemento) #agrego mi diccionario a la lista\n",
        "\n",
        "print(lista_paginas[3]) #muestro un ejemplo (coloco 3 para que me muestre la 4ta pagina)"
      ],
      "metadata": {
        "colab": {
          "base_uri": "https://localhost:8080/"
        },
        "id": "mcr8CFgi3DJP",
        "outputId": "44e112ad-5c9c-429e-858e-13792ef480c5"
      },
      "execution_count": 69,
      "outputs": [
        {
          "output_type": "stream",
          "name": "stdout",
          "text": [
            "{'num_pag': 4, 'texto': 'El Gaucho Martín Fierro\\nI\\nAquí me pongo a cantar\\nal compás de la vigüela,\\nque el hombre que lo desvela\\nuna pena estrordinaria,\\ncomo la ave solitaria\\ncon el cantar se consuela.\\nPido a los santos del cielo\\nque ayuden mi pensamiento:\\nles pido en este momento\\nque voy a cantar mi historia\\nme refresquen la memoria\\ny aclaren mi entendimiento.\\nVengan santos milagrosos,\\nvengan todos en mi ayuda,\\nque la lengua se me añuda\\ny se me turba la vista;\\npido a mi Dios que me asista\\nen una ocasión tan ruda.\\nYo he visto muchos cantores,\\ncon famas bien otenidas\\ny que después de alquiridas\\nno las quieren sustentar:\\nparece que sin largar\\nse cansaron en partidas.\\nMas ande otro criollo pasa\\nMartín Fierro ha de pasar;\\nnada lo hace recular,\\nni las fantasmas lo espantan,\\ny dende que todos cantan\\nyo también quiero cantar.\\nCantando me he de morir,\\ncantando me han de enterrar,\\ny cantando he de llegar\\nal pie del Eterno Padre;\\ndende el vientre de mi madre\\nvine a este mundo a cantar.\\nQue no se trabe mi lengua\\nni me falte la palabra;\\nel cantar mi gloria labra\\ny, poniéndome a cantar,\\ncantando me han de encontrar\\naunque la tierra se abra.\\nMe siento en el plan de un bajo\\na cantar un argumento;\\nPágina 3'}\n"
          ]
        }
      ]
    },
    {
      "cell_type": "markdown",
      "source": [
        "#Parte del Analisis🔎\n",
        "___\n",
        "\n",
        "### Para empezar, todas las preguntas son relacionadas a las estrofas y versos, asi que primero voy a dividir el texto en estrofas y luego en versos para luego poder responder las preguntas\n",
        "En esta parte tuve muchos problemas, ya que en un principio intenté normalizar el texto, reemplazando saltos multiples por un solo salto de renglon asi poder detectar las estrofas mas facilmente, pero luego me di cuenta que el formato de texto extraido no respetaba los saltos de pagina, asi que me tomaba todo el PDF como ua sola estrofa.\n",
        "Analicé un poco el Martin Fierro por mi cuenta para encontrar algun factor común al fianlizar las estrofas, ya que no podia simplemente separar por versos y que cada 6  versos me haga una estrofa ya que no todas las estrofas tienen 6 versos, asi que elejí guiarme por un punto, ya que las gran mayoria de  estrofas terminan en punto. Una vez que decidí esto, me ayude con IAs para poder crear mi codigo."
      ],
      "metadata": {
        "id": "NYK8g5kvFdcG"
      }
    },
    {
      "cell_type": "code",
      "source": [
        "import pdfplumber #esta libreria me facilitará esta tarea, ya que con pypdf no podia\n",
        "import re #con esta libreria podre trabajar sobre los numeros romanos y distintas expresiones\n",
        "\n",
        "nombre_pdf = \"martin_fierro.pdf\"\n",
        "romanos = re.compile(r'^[IVXLCDM]+$') #el patron para los numeros romanos\n",
        "pie_pagina = re.compile(r'^\\s*P(á|a)gina\\s+\\d+\\s*$', re.IGNORECASE) #Patrón para “Página N” (con o sin tilde, ignora mayúsc/minúsc)\n",
        "with pdfplumber.open(nombre_pdf) as pdf:\n",
        "    print(f\"El PDF tiene {len(pdf.pages)} páginas.\") #imprimo la cantidad de páginas"
      ],
      "metadata": {
        "colab": {
          "base_uri": "https://localhost:8080/"
        },
        "id": "HHwiJRlve6mO",
        "outputId": "8c2a7a9c-75f6-4cab-ff80-6b46557ca793"
      },
      "execution_count": 70,
      "outputs": [
        {
          "output_type": "stream",
          "name": "stdout",
          "text": [
            "El PDF tiene 52 páginas.\n"
          ]
        }
      ]
    },
    {
      "cell_type": "code",
      "source": [
        "def limpiar_minimo(texto): #recibe una linea de texto y devuelve una version limpia\n",
        "    return (texto or \"\").replace(\"\\xa0\", \" \").strip()"
      ],
      "metadata": {
        "id": "v2R5Nf6JfCOq"
      },
      "execution_count": 71,
      "outputs": []
    },
    {
      "cell_type": "code",
      "source": [
        "def estrofas_en_pagina(archivo_pdf, nro_pagina):\n",
        "    lista = []\n",
        "    acumulador = []\n",
        "    versos = 0\n",
        "\n",
        "    with pdfplumber.open(archivo_pdf) as pdf:\n",
        "        pagina = pdf.pages[nro_pagina - 1]\n",
        "        texto = pagina.extract_text() or \"\"\n",
        "        lineas = [limpiar_minimo(linea) for linea in texto.splitlines()] #divido el texto en lineas\n",
        "\n",
        "    for linea in lineas:\n",
        "        if not linea or pie_pagina.fullmatch(linea):\n",
        "            continue\n",
        "\n",
        "        if romanos.fullmatch(linea): #si la linea es de numeros romanos, se interpreta como cabecera\n",
        "            if versos > 0:\n",
        "                lista.append({\"nro_pag\": nro_pagina,\n",
        "                              \"cant_versos\": versos,\n",
        "                              \"texto\": \"\\n\".join(acumulador)})\n",
        "                acumulador, versos = [], 0\n",
        "            acumulador.append(linea)  # Cabecera romana\n",
        "            continue\n",
        "\n",
        "        acumulador.append(linea) #acumula y cuenta la cantidad de versos\n",
        "        versos += 1\n",
        "\n",
        "        # aca es donde logro que si el verso termina en punto(.), me cierra la estrofa\n",
        "        if linea.strip().endswith(\".\"):\n",
        "            lista.append({\"nro_pag\": nro_pagina,\n",
        "                          \"cant_versos\": versos,\n",
        "                          \"texto\": \"\\n\".join(acumulador)})\n",
        "            acumulador, versos = [], 0 #me reinicia el acumulador y el contador\n",
        "\n",
        "    return lista"
      ],
      "metadata": {
        "id": "GoVuInP2fkpG"
      },
      "execution_count": 72,
      "outputs": []
    },
    {
      "cell_type": "markdown",
      "source": [
        "##1. ¿Cuál es la cantidad promedio de versos por estrofa en todo el poema?"
      ],
      "metadata": {
        "id": "Yj2BP-PcIaiu"
      }
    },
    {
      "cell_type": "code",
      "source": [
        "import statistics #importo el modulo estadistics para poder clacular el promedio\n",
        "\n",
        "def obtener_todas_estrofas(archivo_pdf): #esta funcion tiene una lista vacia en la que se acumularan todas las estrofas del pdf\n",
        "    todas_estrofas = []\n",
        "    with pdfplumber.open(archivo_pdf) as pdf:\n",
        "        for nro_pagina in range(1, len(pdf.pages) + 1):\n",
        "            estrofas = estrofas_en_pagina(archivo_pdf, nro_pagina)\n",
        "            todas_estrofas.extend(estrofas)\n",
        "    return todas_estrofas\n",
        "#con esta funcion calculo el promedio de versos por estrofa\n",
        "def promedio_versos_por_estrofa(archivo_pdf):\n",
        "    estrofas = obtener_todas_estrofas(archivo_pdf)\n",
        "    if not estrofas:\n",
        "        return 0 #si el pdf esta vacio devuelve 0 para evitar errores\n",
        "    versos_por_estrofa = [estrofa[\"cant_versos\"] for estrofa in estrofas] #crea una lista con solo los numeros de versos por estrofa\n",
        "    return statistics.mean(versos_por_estrofa) #calcula y devuelve el promedio\n",
        "\n",
        "archivo = \"martin_fierro.pdf\"\n",
        "promedio = promedio_versos_por_estrofa(archivo)\n",
        "print(f\"La cantidad promedio de versos por estrofa es: {promedio:.2f}\")"
      ],
      "metadata": {
        "colab": {
          "base_uri": "https://localhost:8080/"
        },
        "id": "7ttz-CT7ID4t",
        "outputId": "2f466376-f971-4a59-e3be-b48d829918a5"
      },
      "execution_count": 73,
      "outputs": [
        {
          "output_type": "stream",
          "name": "stdout",
          "text": [
            "La cantidad promedio de versos por estrofa es: 5.20\n"
          ]
        }
      ]
    },
    {
      "cell_type": "markdown",
      "source": [
        "##2. ¿Cuáles son las 5 estrofas más largas (con más versos)? Imprimir el texto y su cantidad de versos."
      ],
      "metadata": {
        "id": "d7-axef5Iys2"
      }
    },
    {
      "cell_type": "code",
      "source": [
        "def estrofas_mas_largas(archivo_pdf, n=5):\n",
        "    estrofas = obtener_todas_estrofas(archivo_pdf) #extrae todas las estrofas del pdf\n",
        "    estrofas_ordenadas = sorted(estrofas, key=lambda x: x[\"cant_versos\"], reverse=True) #aca ordena las estrofas de manera descendiente\n",
        "    top_estrofas = estrofas_ordenadas[:min(n, len(estrofas))] #toma las primeras n estrofas\n",
        "\n",
        "    for i, estrofa in enumerate(top_estrofas, 1):\n",
        "        print(f\"\\nEstrofa {i} (Página {estrofa['nro_pag']}, {estrofa['cant_versos']} versos):\")\n",
        "        print(estrofa[\"texto\"])\n",
        "        print(\"-\" * 40)\n",
        "\n",
        "archivo = \"martin_fierro.pdf\"\n",
        "estrofas_mas_largas(archivo, 5)"
      ],
      "metadata": {
        "colab": {
          "base_uri": "https://localhost:8080/"
        },
        "collapsed": true,
        "id": "QYZt_AqaIw50",
        "outputId": "2d0c4fd9-166d-4b62-fb07-528d72a33005"
      },
      "execution_count": 74,
      "outputs": [
        {
          "output_type": "stream",
          "name": "stdout",
          "text": [
            "\n",
            "Estrofa 1 (Página 45, 24 versos):\n",
            "A bailar un pericón\n",
            "con una moza salí,\n",
            "y cuando me vido allí\n",
            "sin duda me conoció\n",
            "y estas coplitas cantó\n",
            "como por ráirse de mí:\n",
            "\"Las mujeres son todas\n",
            "como las mulas;\n",
            "yo no digo que todas,\n",
            "pero hay algunas\n",
            "que a las aves que vuelan\n",
            "les sacan plumas.\"\n",
            "\"Hay gauchos que presumen\n",
            "de tener damas;\n",
            "no digo que presumen,\n",
            "pero se alaban,\n",
            "y a lo mejor los dejan\n",
            "tocando tablas.\"\n",
            "Se secretiaron las hembras\n",
            "y yo ya me encocoré;\n",
            "volié la anca y le grité:\n",
            "\"dejá de cantar... chicharra.\"\n",
            "Y de un tajo a la guitarra\n",
            "tuitas las cuerdas corté.\n",
            "----------------------------------------\n",
            "\n",
            "Estrofa 2 (Página 36, 18 versos):\n",
            "\"Vos matastes un moreno\n",
            "y otro en una pulpería,\n",
            "y aquí está la polecía\n",
            "que viene a justar tus cuentas;\n",
            "te va a alzar por las cuarenta\n",
            "si te resistís hoy día.\"\n",
            "-\"No me vengan, contesté,\n",
            "con relación de dijuntos:\n",
            "esos son otros asuntos;\n",
            "vean si me pueden llevar,\n",
            "que yo no me he de entregar\n",
            "aunque vengan todos juntos.\"\n",
            "Pero no aguardaron más\n",
            "y se apiaron en montón;\n",
            "como a perro cimarrón\n",
            "me rodiaron entre tantos;\n",
            "yo me encomendé a los santos\n",
            "y eché mano a mi facón.\n",
            "----------------------------------------\n",
            "\n",
            "Estrofa 3 (Página 42, 18 versos):\n",
            "Tenía el viejito una cara\n",
            "de ternero mal lamido,\n",
            "y al verlo tan atrevido\n",
            "le dije: \"Que le aproveche;\n",
            "que había sido pa el amor\n",
            "como gaucho pa la leche.\"\n",
            "Peló la espada y se vino\n",
            "como a quererme ensartar,\n",
            "pero yo sin tutubiar\n",
            "le volví al punto a decir:\n",
            "-\"Cuidao no te vas a pér...tigo,\n",
            "poné cuarta pa salir.\"\n",
            "Un puntaso me largó\n",
            "pero el cuerpo le saqué\n",
            "y en cuanto se lo quité,\n",
            "para no matar un viejo,\n",
            "con cuidao, medio de lejo,\n",
            "un planaso le asenté.\n",
            "----------------------------------------\n",
            "\n",
            "Estrofa 4 (Página 16, 14 versos):\n",
            "¡Si queríamos, de apuraos,\n",
            "salirnos por las orejas!\n",
            "Y pa mejor de la fiesta\n",
            "en esta aflición tan suma,\n",
            "vino un indio echando espuma\n",
            "y con la lanza en la mano\n",
            "gritando: \"Acabau, cristiano,\n",
            "metau el lanza hasta el pluma.\"\n",
            "Tendido en el costillar,\n",
            "cimbrando por sobre el brazo\n",
            "una lanza como un lazo,\n",
            "me atropeyó dando gritos:\n",
            "si me descuido... el maldito\n",
            "me levanta de un lanzaso.\n",
            "----------------------------------------\n",
            "\n",
            "Estrofa 5 (Página 8, 12 versos):\n",
            "Cuando llegaban las yerras,\n",
            "¡cosa que daba calor\n",
            "tanto gaucho pialador\n",
            "y tironiador sin yel!\n",
            "¡Ah tiempos... pero si en él\n",
            "se ha visto tanto primor!\n",
            "Aquéllo no era trabajo,\n",
            "más bien era una junción,\n",
            "y después de un güen tirón\n",
            "en que uno se daba maña,\n",
            "pa darle un trago de caña\n",
            "solía llamarlo el patrón.\n",
            "----------------------------------------\n"
          ]
        }
      ]
    },
    {
      "cell_type": "markdown",
      "source": [
        "##Generar un gráfico de barras (usando matplotlib o seaborn) que muestre la frecuencia de las estrofas según su cantidad de versos (ej: cuántas estrofas de 4 versos hay, cuántas de 6, etc.)\"."
      ],
      "metadata": {
        "id": "V1klEy-Zic1b"
      }
    },
    {
      "cell_type": "code",
      "source": [
        "import matplotlib.pyplot as plt #biblioteca para realizar gráficos\n",
        "from collections import Counter #counter cuenta automaticamente la cantidad de veces que aparece cada elemento en una lista\n",
        "\n",
        "def grafico_frecuencia_versos(archivo_pdf):\n",
        "    estrofas = obtener_todas_estrofas(archivo_pdf)\n",
        "    versos_por_estrofa = [estrofa[\"cant_versos\"] for estrofa in estrofas]\n",
        "\n",
        "    frecuencias = Counter(versos_por_estrofa) #aca cuenta la frecuencia de cantidad de textos\n",
        "\n",
        "    cantidades = sorted(frecuencias.keys()) #prepara los datos para el gráfico\n",
        "    frecuencias_valores = [frecuencias[cant] for cant in cantidades]\n",
        "\n",
        "    plt.figure(figsize=(10, 6)) #crea el gráfico de barras\n",
        "    plt.bar(cantidades, frecuencias_valores, color='pink', edgecolor='black')\n",
        "    plt.xlabel('Cantidad de versos por estrofa')\n",
        "    plt.ylabel('Frecuencia (número de estrofas)')\n",
        "    plt.title('Frecuencia de estrofas según cantidad de versos')\n",
        "    plt.xticks(cantidades)\n",
        "    plt.grid(axis='y', linestyle='--', alpha=0.7)\n",
        "    plt.show()\n",
        "\n",
        "\n",
        "archivo = \"martin_fierro.pdf\"\n",
        "grafico_frecuencia_versos(archivo)"
      ],
      "metadata": {
        "colab": {
          "base_uri": "https://localhost:8080/",
          "height": 565
        },
        "id": "TSp-nZM9inAD",
        "outputId": "8269cc69-9978-46ce-ccce-2752bb9c7906"
      },
      "execution_count": 75,
      "outputs": [
        {
          "output_type": "display_data",
          "data": {
            "text/plain": [
              "<Figure size 1000x600 with 1 Axes>"
            ],
            "image/png": "[encoded data removed]"
          },
          "metadata": {}
        }
      ]
    }
  ]
}